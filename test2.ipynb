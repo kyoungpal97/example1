{
 "cells": [
  {
   "cell_type": "code",
   "execution_count": 1,
   "metadata": {},
   "outputs": [
    {
     "name": "stdout",
     "output_type": "stream",
     "text": [
      "hello world\n"
     ]
    }
   ],
   "source": [
    "print(\"hello world\")"
   ]
  },
  {
   "cell_type": "code",
   "execution_count": 2,
   "metadata": {},
   "outputs": [
    {
     "name": "stdout",
     "output_type": "stream",
     "text": [
      "뒤통수 신준용\n"
     ]
    }
   ],
   "source": [
    "print(\"뒤통수 신준용\")"
   ]
  },
  {
   "cell_type": "code",
   "execution_count": 3,
   "metadata": {},
   "outputs": [
    {
     "name": "stdout",
     "output_type": "stream",
     "text": [
      "나가리된 박경민\n"
     ]
    }
   ],
   "source": [
    "print(\"나가리된 박경민\")"
   ]
  },
  {
   "cell_type": "code",
   "execution_count": 4,
   "metadata": {},
   "outputs": [
    {
     "name": "stdout",
     "output_type": "stream",
     "text": [
      "아쉬운 김한음\n"
     ]
    }
   ],
   "source": [
    "print(\"아쉬운 김한음\")"
   ]
  },
  {
   "cell_type": "code",
   "execution_count": 5,
   "metadata": {},
   "outputs": [
    {
     "name": "stdout",
     "output_type": "stream",
     "text": [
      "우울한 3인방\n"
     ]
    }
   ],
   "source": [
    "print(\"우울한 3인방\")"
   ]
  },
  {
   "cell_type": "code",
   "execution_count": 6,
   "metadata": {},
   "outputs": [
    {
     "name": "stdout",
     "output_type": "stream",
     "text": [
      "아쉽다 우리의 이야기\n"
     ]
    }
   ],
   "source": [
    "print(\"아쉽다 우리의 이야기\")"
   ]
  },
  {
   "cell_type": "code",
   "execution_count": 7,
   "metadata": {},
   "outputs": [
    {
     "name": "stdout",
     "output_type": "stream",
     "text": [
      "어쩌면 대학교 시절 최고의 친구들이 되었을 수 있었는데\n"
     ]
    }
   ],
   "source": [
    "print(\"어쩌면 대학교 시절 최고의 친구들이 되었을 수 있었는데\")"
   ]
  },
  {
   "cell_type": "code",
   "execution_count": 8,
   "metadata": {},
   "outputs": [
    {
     "name": "stdout",
     "output_type": "stream",
     "text": [
      "그치 ? 너무나도 아쉬워 너희들과 다같이 무언가를 하고 싶었는데\n"
     ]
    }
   ],
   "source": [
    "print(\"그치 ? 너무나도 아쉬워 너희들과 다같이 무언가를 하고 싶었는데\")"
   ]
  },
  {
   "cell_type": "code",
   "execution_count": 9,
   "metadata": {},
   "outputs": [
    {
     "name": "stdout",
     "output_type": "stream",
     "text": [
      "집에 가게 되면 아무것도 같이 할 수 없게 될테니까 너무나도 아쉬워\n"
     ]
    }
   ],
   "source": [
    "print(\"집에 가게 되면 아무것도 같이 할 수 없게 될테니까 너무나도 아쉬워\")"
   ]
  },
  {
   "cell_type": "code",
   "execution_count": null,
   "metadata": {},
   "outputs": [],
   "source": []
  }
 ],
 "metadata": {
  "kernelspec": {
   "display_name": "Python 3",
   "language": "python",
   "name": "python3"
  },
  "language_info": {
   "codemirror_mode": {
    "name": "ipython",
    "version": 3
   },
   "file_extension": ".py",
   "mimetype": "text/x-python",
   "name": "python",
   "nbconvert_exporter": "python",
   "pygments_lexer": "ipython3",
   "version": "3.8.5"
  }
 },
 "nbformat": 4,
 "nbformat_minor": 4
}
